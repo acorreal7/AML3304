{
 "cells": [
  {
   "cell_type": "markdown",
   "metadata": {},
   "source": [
    "Extract data from `CogiMesh__Nexing__AdaptScenes__and_the_Unified_Model_Engineering_Process_UMEP.txt`"
   ]
  },
  {
   "cell_type": "code",
   "execution_count": 12,
   "metadata": {},
   "outputs": [],
   "source": [
    "import re\n",
    "\n",
    "def read_file(file_path):\n",
    "    with open(file_path, 'r',  encoding='utf-8') as f:\n",
    "        text = f.read()\n",
    "    return text\n",
    "\n",
    "text_1 = read_file('./file1.txt')\n",
    "text_2 = read_file('./file2.txt')\n",
    "text_3 = read_file('./file3.txt')\n",
    "text_4 = read_file('./file4.txt')\n",
    "text_5 = read_file('./file5.txt')\n",
    "text_6 = read_file('./file6.txt')\n",
    "text_7 = read_file('./file7.txt')\n",
    "text_8 = read_file('./file8.txt')\n",
    "\n",
    "all_text = text_1 + '\\n' + text_2 + '\\n' + text_3 + '\\n' + text_4 + '\\n' + text_5 + '\\n' + text_6 + '\\n' + text_7 + '\\n' + text_8\n",
    "\n",
    "# Find questions and answers\n",
    "items = re.findall(r'((Question|Answer):\\s)(.*)', all_text)"
   ]
  },
  {
   "cell_type": "markdown",
   "metadata": {},
   "source": [
    "Create a Dataframe with the questions ands answers"
   ]
  },
  {
   "cell_type": "code",
   "execution_count": 13,
   "metadata": {},
   "outputs": [
    {
     "data": {
      "text/html": [
       "<div>\n",
       "<style scoped>\n",
       "    .dataframe tbody tr th:only-of-type {\n",
       "        vertical-align: middle;\n",
       "    }\n",
       "\n",
       "    .dataframe tbody tr th {\n",
       "        vertical-align: top;\n",
       "    }\n",
       "\n",
       "    .dataframe thead th {\n",
       "        text-align: right;\n",
       "    }\n",
       "</style>\n",
       "<table border=\"1\" class=\"dataframe\">\n",
       "  <thead>\n",
       "    <tr style=\"text-align: right;\">\n",
       "      <th></th>\n",
       "      <th>question</th>\n",
       "      <th>answer</th>\n",
       "    </tr>\n",
       "  </thead>\n",
       "  <tbody>\n",
       "    <tr>\n",
       "      <th>66</th>\n",
       "      <td>What is the highest badge in the AI Engineerin...</td>\n",
       "      <td>The highest badge is the \"Senior Model Buildin...</td>\n",
       "    </tr>\n",
       "    <tr>\n",
       "      <th>411</th>\n",
       "      <td>How does UP handle technical debt?</td>\n",
       "      <td>By addressing issues in each iteration and mai...</td>\n",
       "    </tr>\n",
       "    <tr>\n",
       "      <th>568</th>\n",
       "      <td>What is the Unified Process?</td>\n",
       "      <td>The Unified Process is an iterative software d...</td>\n",
       "    </tr>\n",
       "    <tr>\n",
       "      <th>502</th>\n",
       "      <td>What is a project milestone?</td>\n",
       "      <td>A project milestone is a significant event or ...</td>\n",
       "    </tr>\n",
       "    <tr>\n",
       "      <th>126</th>\n",
       "      <td>What is the significance of making data 'real-...</td>\n",
       "      <td>It ensures comprehensive coverage of potential...</td>\n",
       "    </tr>\n",
       "  </tbody>\n",
       "</table>\n",
       "</div>"
      ],
      "text/plain": [
       "                                              question  \\\n",
       "66   What is the highest badge in the AI Engineerin...   \n",
       "411                 How does UP handle technical debt?   \n",
       "568                       What is the Unified Process?   \n",
       "502                       What is a project milestone?   \n",
       "126  What is the significance of making data 'real-...   \n",
       "\n",
       "                                                answer  \n",
       "66   The highest badge is the \"Senior Model Buildin...  \n",
       "411  By addressing issues in each iteration and mai...  \n",
       "568  The Unified Process is an iterative software d...  \n",
       "502  A project milestone is a significant event or ...  \n",
       "126  It ensures comprehensive coverage of potential...  "
      ]
     },
     "execution_count": 13,
     "metadata": {},
     "output_type": "execute_result"
    }
   ],
   "source": [
    "import pandas as pd\n",
    "\n",
    "data = [];\n",
    "questions, answers = items[::2], items[1::2]\n",
    "for question, answer in zip(questions, answers):\n",
    "    data.append({\n",
    "        'question': question[2],\n",
    "        'answer': answer[2]\n",
    "    })\n",
    "\n",
    "# Create DataFrame\n",
    "df = pd.DataFrame(data)\n",
    "df.sample(5)"
   ]
  },
  {
   "cell_type": "code",
   "execution_count": 14,
   "metadata": {},
   "outputs": [
    {
     "data": {
      "text/plain": [
       "830"
      ]
     },
     "execution_count": 14,
     "metadata": {},
     "output_type": "execute_result"
    }
   ],
   "source": [
    "len(df)"
   ]
  },
  {
   "cell_type": "code",
   "execution_count": 15,
   "metadata": {},
   "outputs": [],
   "source": [
    "df.to_csv('dataset.csv', index=False)"
   ]
  }
 ],
 "metadata": {
  "kernelspec": {
   "display_name": "Python 3",
   "language": "python",
   "name": "python3"
  },
  "language_info": {
   "codemirror_mode": {
    "name": "ipython",
    "version": 3
   },
   "file_extension": ".py",
   "mimetype": "text/x-python",
   "name": "python",
   "nbconvert_exporter": "python",
   "pygments_lexer": "ipython3",
   "version": "3.12.4"
  }
 },
 "nbformat": 4,
 "nbformat_minor": 2
}
